{
 "cells": [
  {
   "cell_type": "markdown",
   "metadata": {},
   "source": [
    "1. In the below elements which of them are values or an expression? eg:- values can be\n",
    "integer or string and expressions will be mathematical operators.\n",
    "\n",
    "*\n",
    "\n",
    "&#39;hello&#39;\n",
    "\n",
    "-87.8\n",
    "\n",
    "-\n",
    "\n",
    "/\n",
    "\n",
    "+\n",
    "\n",
    "6"
   ]
  },
  {
   "cell_type": "markdown",
   "metadata": {},
   "source": [
    "-->  Values are    -87.8  ,  6 , \"hello\"\n",
    "\n",
    "    expressions are * , - , / , + "
   ]
  },
  {
   "cell_type": "markdown",
   "metadata": {},
   "source": [
    "2. What is the difference between string and variable?"
   ]
  },
  {
   "cell_type": "markdown",
   "metadata": {},
   "source": [
    "-->\n",
    "    string is nothing but any data contain in \" \" Or ' ' this sign e.g \"jhbjsvh\", \"6451\", \"khbnksfvv655\" \n",
    "    \n",
    "    variable is nothing any letter OR word which is not inbuild function in pyhon in which we can store values \n",
    "    e.g cycle = 6546 , m = \"hbhjb\" , motor = 465"
   ]
  },
  {
   "cell_type": "markdown",
   "metadata": {},
   "source": [
    "3. Describe three different data types."
   ]
  },
  {
   "cell_type": "markdown",
   "metadata": {},
   "source": [
    "-- > \n",
    "    string , interger and boolean these are three data types. \n",
    "    \n",
    "    string : it is the data type where we ahve to incorporate it in \"\" or '' sign so it will declare as string type . SO in string it can be number , long sentence, paragraph etc.\n",
    "    \n",
    "    Integer : this data type is contains numbers, which can be natural, whole or float type. e.g. 0,1,5,5,9 , 0.1, 0.3\n",
    "    \n",
    "    Boolean : in this tyope there are two type of values are there . 1 and 0 . It can be used as 1 = true and 0 = false. \n",
    "    it is used in true-false condition."
   ]
  },
  {
   "cell_type": "markdown",
   "metadata": {},
   "source": [
    "4. What is an expression made up of? What do all expressions do?"
   ]
  },
  {
   "cell_type": "markdown",
   "metadata": {},
   "source": [
    "--> Expression is made of combination of operands and operators to get something output from them.\n",
    "    we can to mathematical , logical opearation with help of expression. "
   ]
  },
  {
   "cell_type": "markdown",
   "metadata": {},
   "source": [
    "5. This assignment statements, like spam = 10. What is the difference between an\n",
    "expression and a statement?"
   ]
  },
  {
   "cell_type": "markdown",
   "metadata": {},
   "source": [
    "--> \n",
    "    statement is function can be excecuted by python interpretor e.g. if-else , while, for etc are the statements \n",
    "    \n",
    "    expression is custumised operation where we are including operands and operators . e.g. 8+*5-56/245 is an expression \n",
    "   "
   ]
  },
  {
   "cell_type": "markdown",
   "metadata": {},
   "source": [
    "6. After running the following code, what does the variable bacon contain?\n",
    "bacon = 22\n",
    "bacon + 1"
   ]
  },
  {
   "cell_type": "markdown",
   "metadata": {},
   "source": [
    "-->in bacon varible will contain 22 value only as assignment not changed"
   ]
  },
  {
   "cell_type": "markdown",
   "metadata": {},
   "source": [
    "7. What should the values of the following two terms be?\n",
    "&#39;spam&#39; + &#39;spamspam&#39;\n",
    "&#39;spam&#39; * 3"
   ]
  },
  {
   "cell_type": "markdown",
   "metadata": {},
   "source": [
    "--> output of above two statement will be same that is 'spamspamspam'"
   ]
  },
  {
   "cell_type": "markdown",
   "metadata": {},
   "source": [
    "8. Why is eggs a valid variable name while 100 is invalid?"
   ]
  },
  {
   "cell_type": "markdown",
   "metadata": {},
   "source": [
    "--> As eggs is not inbulit function in python hence it can be used as variable . but in case of 100 its numeric value in that we cannot use to store any data as globle varible e.g. 100 = 45 not possible but eggs = 45 is possible."
   ]
  },
  {
   "cell_type": "markdown",
   "metadata": {},
   "source": [
    "9. What three functions can be used to get the integer, floating-point number, or string\n",
    "version of a value?"
   ]
  },
  {
   "cell_type": "markdown",
   "metadata": {},
   "source": [
    "--> int () , float () and str() , these three function can be use to get integer, floating point and string value "
   ]
  },
  {
   "cell_type": "markdown",
   "metadata": {},
   "source": [
    "10. Why does this expression cause an error? How can you fix it?\n",
    "&#39;I have eaten &#39; + 99 + &#39; burritos.&#39;"
   ]
  },
  {
   "cell_type": "markdown",
   "metadata": {},
   "source": [
    " -- > As 99 is the int and other two element are string element hence we cannot concatenate str and int So we have to convert int 99 onto str \"99\" so we will get expected output."
   ]
  }
 ],
 "metadata": {
  "kernelspec": {
   "display_name": "Python 3",
   "language": "python",
   "name": "python3"
  },
  "language_info": {
   "codemirror_mode": {
    "name": "ipython",
    "version": 3
   },
   "file_extension": ".py",
   "mimetype": "text/x-python",
   "name": "python",
   "nbconvert_exporter": "python",
   "pygments_lexer": "ipython3",
   "version": "3.7.4"
  }
 },
 "nbformat": 4,
 "nbformat_minor": 2
}
